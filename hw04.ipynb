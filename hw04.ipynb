{
 "cells": [
  {
   "cell_type": "code",
   "execution_count": 61,
   "metadata": {
    "collapsed": false
   },
   "outputs": [
    {
     "name": "stdout",
     "output_type": "stream",
     "text": [
      "iterations : 70, gk norm = 6.174596e-14, x = [2.342478, 1.184956]\n",
      "extremum = 2 or -2, estimate = a*sin(b*x) =  -2.0\n"
     ]
    }
   ],
   "source": [
    "import math\n",
    "import numpy as np\n",
    "import random\n",
    "\n",
    "#find one extremum for function y = a *sin(b*x)\n",
    "a = 2\n",
    "b = np.matrix([1,2])\n",
    "\n",
    "x = np.matrix([[3],[2.5]])\n",
    "\n",
    "gk_norm = 100\n",
    "k = 0\n",
    "epson = 1e-13\n",
    "mu = 0.1\n",
    "fk = a * math.sin(b * x)\n",
    "maxk = 1000\n",
    "qk = 1\n",
    "while(gk_norm > epson and k < maxk):\n",
    "    gk = a * b * math.cos(b * x)\n",
    "    Gk = -1 * a * b.T * b * math.sin(b * x)\n",
    "    gk_norm = gk * gk.T\n",
    "    [S, V, D] = np.linalg.svd(Gk+mu*np.eye(2), full_matrices=True)\n",
    "    while(0 in V):\n",
    "        mu = 4*mu\n",
    "        [S, V, D] = np.linalg.svd(Gk+mu*np.eye(2), full_matrices=True)\n",
    "    sk = np.array((np.linalg.inv(Gk+mu*np.eye(2)) * (-gk.T)).T)[0]\n",
    "    \n",
    "    fk_old = fk\n",
    "    qk_old = qk\n",
    "    \n",
    "    fk = a * math.sin(b * (np.matrix(sk).T + x))\n",
    "    \n",
    "    qk = (fk + gk * np.matrix(sk).T + 0.5 * np.matrix(sk) * Gk * np.matrix(sk).T)[0,0]\n",
    "    \n",
    "    rk = (fk-fk_old) / (qk - qk_old)\n",
    "    if rk < 0.25:\n",
    "        mu = 4 * mu\n",
    "    elif rk > 0.75:\n",
    "        mu = 0.5 * mu\n",
    "    \n",
    "    if rk > 0:\n",
    "        x = x + np.matrix(sk).T\n",
    "    \n",
    "    k += 1\n",
    "print \"iterations : %d, gk norm = %e, x = [%f, %f]\" % (k,gk_norm,x[0,0],x[1,0])\n",
    "    \n",
    "print \"extremum = 2 or -2, estimate = a*sin(b*x) = \" , (a * math.sin(b * x))"
   ]
  }
 ],
 "metadata": {
  "kernelspec": {
   "display_name": "Python 2",
   "language": "python",
   "name": "python2"
  },
  "language_info": {
   "codemirror_mode": {
    "name": "ipython",
    "version": 2
   },
   "file_extension": ".py",
   "mimetype": "text/x-python",
   "name": "python",
   "nbconvert_exporter": "python",
   "pygments_lexer": "ipython2",
   "version": "2.7.11"
  }
 },
 "nbformat": 4,
 "nbformat_minor": 0
}
